{
  "cells": [
    {
      "cell_type": "markdown",
      "metadata": {
        "id": "view-in-github",
        "colab_type": "text"
      },
      "source": [
        "<a href=\"https://colab.research.google.com/github/lkmsdf159/Colleage/blob/main/multi_class_classification.ipynb\" target=\"_parent\"><img src=\"https://colab.research.google.com/assets/colab-badge.svg\" alt=\"Open In Colab\"/></a>"
      ]
    },
    {
      "cell_type": "code",
      "execution_count": null,
      "metadata": {
        "id": "V0Z9lXzArjLC",
        "colab": {
          "base_uri": "https://localhost:8080/"
        },
        "outputId": "846f6aa0-c57a-409e-9a8e-436a4c6bb48f"
      },
      "outputs": [
        {
          "output_type": "stream",
          "name": "stdout",
          "text": [
            "Requirement already satisfied: matplotlib in /usr/local/lib/python3.10/dist-packages (3.7.1)\n",
            "Requirement already satisfied: contourpy>=1.0.1 in /usr/local/lib/python3.10/dist-packages (from matplotlib) (1.2.1)\n",
            "Requirement already satisfied: cycler>=0.10 in /usr/local/lib/python3.10/dist-packages (from matplotlib) (0.12.1)\n",
            "Requirement already satisfied: fonttools>=4.22.0 in /usr/local/lib/python3.10/dist-packages (from matplotlib) (4.51.0)\n",
            "Requirement already satisfied: kiwisolver>=1.0.1 in /usr/local/lib/python3.10/dist-packages (from matplotlib) (1.4.5)\n",
            "Requirement already satisfied: numpy>=1.20 in /usr/local/lib/python3.10/dist-packages (from matplotlib) (1.25.2)\n",
            "Requirement already satisfied: packaging>=20.0 in /usr/local/lib/python3.10/dist-packages (from matplotlib) (24.0)\n",
            "Requirement already satisfied: pillow>=6.2.0 in /usr/local/lib/python3.10/dist-packages (from matplotlib) (9.4.0)\n",
            "Requirement already satisfied: pyparsing>=2.3.1 in /usr/local/lib/python3.10/dist-packages (from matplotlib) (3.1.2)\n",
            "Requirement already satisfied: python-dateutil>=2.7 in /usr/local/lib/python3.10/dist-packages (from matplotlib) (2.8.2)\n",
            "Requirement already satisfied: six>=1.5 in /usr/local/lib/python3.10/dist-packages (from python-dateutil>=2.7->matplotlib) (1.16.0)\n"
          ]
        }
      ],
      "source": [
        "!pip install matplotlib"
      ]
    },
    {
      "cell_type": "code",
      "execution_count": null,
      "metadata": {
        "id": "FV41nV2lfY0G",
        "colab": {
          "base_uri": "https://localhost:8080/"
        },
        "outputId": "f3f50ac8-bd98-4dbf-cde2-752fe4cc510f"
      },
      "outputs": [
        {
          "output_type": "stream",
          "name": "stdout",
          "text": [
            "Drive already mounted at /content/drive; to attempt to forcibly remount, call drive.mount(\"/content/drive\", force_remount=True).\n"
          ]
        }
      ],
      "source": [
        "from google.colab import drive\n",
        "drive.mount('/content/drive')\n",
        "\n",
        "import tensorflow as tf\n",
        "from tensorflow import keras\n",
        "from keras.preprocessing.image import ImageDataGenerator\n",
        "import numpy as np\n",
        "import os\n",
        "import matplotlib.pyplot as plt\n",
        "import glob\n",
        "from tensorflow.keras.preprocessing.image import ImageDataGenerator\n"
      ]
    },
    {
      "cell_type": "code",
      "execution_count": null,
      "metadata": {
        "colab": {
          "base_uri": "https://localhost:8080/"
        },
        "id": "DzEgRHlsfdgz",
        "outputId": "0baa80f5-e3cb-4d24-d367-c8fcd6f3bd11"
      },
      "outputs": [
        {
          "output_type": "stream",
          "name": "stdout",
          "text": [
            "Found 131 images belonging to 3 classes.\n",
            "Found 15 images belonging to 3 classes.\n",
            "Found 18 images belonging to 3 classes.\n",
            "Epoch 1/10\n",
            "8/8 [==============================] - 29s 4s/step - loss: 1.0705 - accuracy: 0.8609 - val_loss: 0.6920 - val_accuracy: 0.7500\n",
            "Epoch 2/10\n",
            "8/8 [==============================] - 16s 2s/step - loss: 0.4270 - accuracy: 0.9217 - val_loss: 0.9854 - val_accuracy: 0.7500\n",
            "Epoch 3/10\n",
            "8/8 [==============================] - 16s 2s/step - loss: 0.4555 - accuracy: 0.9130 - val_loss: 0.9540 - val_accuracy: 0.8125\n",
            "Epoch 4/10\n",
            "8/8 [==============================] - 18s 2s/step - loss: 0.5190 - accuracy: 0.8984 - val_loss: 0.8919 - val_accuracy: 0.6875\n",
            "Epoch 5/10\n",
            "8/8 [==============================] - 15s 2s/step - loss: 0.3938 - accuracy: 0.9217 - val_loss: 1.2860 - val_accuracy: 0.6875\n",
            "Epoch 6/10\n",
            "8/8 [==============================] - 15s 2s/step - loss: 0.4413 - accuracy: 0.9043 - val_loss: 0.9781 - val_accuracy: 0.6875\n",
            "Epoch 7/10\n",
            "8/8 [==============================] - 15s 2s/step - loss: 0.3940 - accuracy: 0.9043 - val_loss: 1.0412 - val_accuracy: 0.6875\n",
            "Epoch 8/10\n",
            "8/8 [==============================] - 15s 2s/step - loss: 0.3945 - accuracy: 0.9043 - val_loss: 0.7723 - val_accuracy: 0.7500\n",
            "Epoch 9/10\n",
            "8/8 [==============================] - 16s 2s/step - loss: 0.3947 - accuracy: 0.8984 - val_loss: 0.8279 - val_accuracy: 0.7500\n",
            "Epoch 10/10\n",
            "8/8 [==============================] - 15s 2s/step - loss: 0.3658 - accuracy: 0.9130 - val_loss: 0.8610 - val_accuracy: 0.7500\n"
          ]
        },
        {
          "output_type": "stream",
          "name": "stderr",
          "text": [
            "/usr/local/lib/python3.10/dist-packages/keras/src/engine/training.py:3103: UserWarning: You are saving your model as an HDF5 file via `model.save()`. This file format is considered legacy. We recommend using instead the native Keras format, e.g. `model.save('my_model.keras')`.\n",
            "  saving_api.save_model(\n"
          ]
        }
      ],
      "source": [
        "\n",
        "# 데이터셋 경로 설정\n",
        "train_dir = '/content/drive/MyDrive/data/train'\n",
        "test_dir = '/content/drive/MyDrive/data/test'\n",
        "val_dir = '/content/drive/MyDrive/data/validation'\n",
        "\n",
        "# 이미지 사이즈 설정\n",
        "target_size = (224, 224)\n",
        "\n",
        "# 배치 사이즈 설정\n",
        "batch_size = 16\n",
        "\n",
        "# 데이터 전처리 및 증강\n",
        "train_datagen = ImageDataGenerator(\n",
        "    rescale=1./255,  # 픽셀값을 0-1 범위로 정규화\n",
        "    rotation_range=20,  # 회전 범위 (단위: 도)\n",
        "    width_shift_range=0.1,  # 수평 이동 범위\n",
        "    height_shift_range=0.1,  # 수직 이동 범위\n",
        "    zoom_range=0.2,  # 확대/축소 범위\n",
        "    horizontal_flip=True,  # 수평 반전\n",
        "    vertical_flip=True,  # 수직 반전\n",
        "    brightness_range=[0.8, 1.2],  # 밝기 범위\n",
        "    fill_mode='nearest'  # 변형 후 빈 공간 채우기 방식\n",
        ")\n",
        "\n",
        "test_datagen = ImageDataGenerator(rescale=1./255)\n",
        "\n",
        "train_generator = train_datagen.flow_from_directory(\n",
        "    train_dir,\n",
        "    target_size=target_size,\n",
        "    batch_size=batch_size,\n",
        "    class_mode='categorical'\n",
        ")\n",
        "\n",
        "test_generator = test_datagen.flow_from_directory(\n",
        "    test_dir,\n",
        "    target_size=target_size,\n",
        "    batch_size=batch_size,\n",
        "    class_mode='categorical'\n",
        ")\n",
        "\n",
        "val_generator = test_datagen.flow_from_directory(\n",
        "    val_dir,\n",
        "    target_size=target_size,\n",
        "    batch_size=batch_size,\n",
        "    class_mode='categorical'\n",
        ")\n",
        "\n",
        "# GPU 사용 설정\n",
        "with tf.device('/device:GPU:0'):\n",
        "    # 모델 정의\n",
        "    model = keras.Sequential([\n",
        "        keras.layers.Conv2D(32, (3, 3), activation='relu', input_shape=(224, 224, 3)),\n",
        "        keras.layers.MaxPooling2D((2, 2)),\n",
        "        keras.layers.Conv2D(64, (3, 3), activation='relu'),\n",
        "        keras.layers.MaxPooling2D((2, 2)),\n",
        "        keras.layers.Conv2D(64, (3, 3), activation='relu'),\n",
        "        keras.layers.Flatten(),\n",
        "        keras.layers.Dense(64, activation='relu'),\n",
        "        keras.layers.Dense(3, activation='softmax')\n",
        "    ])\n",
        "\n",
        "    model.compile(optimizer='adam',\n",
        "                  loss='categorical_crossentropy',\n",
        "                  metrics=['accuracy'])\n",
        "\n",
        "# 모델 학습\n",
        "history = model.fit(\n",
        "    train_generator,\n",
        "    steps_per_epoch=train_generator.samples // batch_size,\n",
        "    epochs=10,\n",
        "    validation_data=val_generator,\n",
        "    validation_steps=val_generator.samples // batch_size\n",
        ")\n",
        "\n",
        "# 모델 저장\n",
        "model.save('image_classifier.h5')"
      ]
    },
    {
      "cell_type": "code",
      "execution_count": null,
      "metadata": {
        "id": "mIBqJrjCt12M",
        "colab": {
          "base_uri": "https://localhost:8080/"
        },
        "outputId": "778948ca-1a83-4880-c8a5-4066f4268be6"
      },
      "outputs": [
        {
          "output_type": "stream",
          "name": "stdout",
          "text": [
            "Test accuracy: 46.667\n",
            "1/1 [==============================] - 1s 878ms/step - loss: 1.9546 - accuracy: 0.4667\n",
            "Test loss: 1.9546\n",
            "Test accuracy: 0.4667\n"
          ]
        }
      ],
      "source": [
        "# 모델 평가\n",
        "_, acc = model.evaluate(test_generator, steps=len(test_generator), verbose=0)\n",
        "print('Test accuracy: %.3f' % (acc * 100.0))\n",
        "\n",
        "loss, accuracy = model.evaluate(test_generator)\n",
        "print(f'Test loss: {loss:.4f}')\n",
        "print(f'Test accuracy: {accuracy:.4f}')"
      ]
    },
    {
      "cell_type": "code",
      "source": [],
      "metadata": {
        "id": "HwMRmjHfXstl"
      },
      "execution_count": null,
      "outputs": []
    }
  ],
  "metadata": {
    "colab": {
      "provenance": [],
      "mount_file_id": "1PZa6rkh6wsJA_a2CoCQ0RN27Z0SQfOXd",
      "authorship_tag": "ABX9TyMTa/FAl972iPtZH0VW2b7M",
      "include_colab_link": true
    },
    "kernelspec": {
      "display_name": "Python 3",
      "name": "python3"
    },
    "language_info": {
      "name": "python"
    }
  },
  "nbformat": 4,
  "nbformat_minor": 0
}